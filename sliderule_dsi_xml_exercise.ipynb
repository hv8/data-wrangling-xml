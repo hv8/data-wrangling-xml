{
 "cells": [
  {
   "cell_type": "markdown",
   "metadata": {},
   "source": [
    "# XML example and exercise\n",
    "****\n",
    "+ study examples of accessing nodes in XML tree structure  \n",
    "+ work on exercise to be completed and submitted\n",
    "****\n",
    "+ reference: https://docs.python.org/2.7/library/xml.etree.elementtree.html\n",
    "+ data source: http://www.dbis.informatik.uni-goettingen.de/Mondial\n",
    "****"
   ]
  },
  {
   "cell_type": "code",
   "execution_count": 1,
   "metadata": {
    "collapsed": true
   },
   "outputs": [],
   "source": [
    "from xml.etree import ElementTree as ET"
   ]
  },
  {
   "cell_type": "markdown",
   "metadata": {},
   "source": [
    "## XML example\n",
    "\n",
    "+ for details about tree traversal and iterators, see https://docs.python.org/2.7/library/xml.etree.elementtree.html"
   ]
  },
  {
   "cell_type": "code",
   "execution_count": 2,
   "metadata": {
    "collapsed": true
   },
   "outputs": [],
   "source": [
    "document_tree = ET.parse( './data/mondial_database_less.xml' )"
   ]
  },
  {
   "cell_type": "code",
   "execution_count": 3,
   "metadata": {
    "collapsed": false
   },
   "outputs": [
    {
     "name": "stdout",
     "output_type": "stream",
     "text": [
      "Albania\n",
      "Greece\n",
      "Macedonia\n",
      "Serbia\n",
      "Montenegro\n",
      "Kosovo\n",
      "Andorra\n"
     ]
    }
   ],
   "source": [
    "# print names of all countries\n",
    "for child in document_tree.getroot():\n",
    "    print child.find('name').text"
   ]
  },
  {
   "cell_type": "code",
   "execution_count": 4,
   "metadata": {
    "collapsed": false
   },
   "outputs": [
    {
     "name": "stdout",
     "output_type": "stream",
     "text": [
      "* Albania: Tirana, Shkodër, Durrës, Vlorë, Elbasan, Korçë\n",
      "* Greece: Komotini, Kavala, Athina, Peiraias, Peristeri, Acharnes, Patra, Kozani, Kerkyra, Ioannina, Thessaloniki, Iraklio, Chania, Ermoupoli, Rhodes, Tripoli, Lamia, Chalkida, Larissa, Volos, Mytilini, Karyes\n",
      "* Macedonia: Skopje, Kumanovo\n",
      "* Serbia: Beograd, Novi Sad, Niš\n",
      "* Montenegro: Podgorica\n",
      "* Kosovo: Prishtine\n",
      "* Andorra: Andorra la Vella\n"
     ]
    }
   ],
   "source": [
    "# print names of all countries and their cities\n",
    "for element in document_tree.iterfind('country'):\n",
    "    print '* ' + element.find('name').text + ':',\n",
    "    capitals_string = ''\n",
    "    for subelement in element.getiterator('city'):\n",
    "        capitals_string += subelement.find('name').text + ', '\n",
    "    print capitals_string[:-2]"
   ]
  },
  {
   "cell_type": "markdown",
   "metadata": {},
   "source": [
    "****\n",
    "## XML exercise\n",
    "\n",
    "Using data in 'data/mondial_database.xml', the examples above, and refering to https://docs.python.org/2.7/library/xml.etree.elementtree.html, find\n",
    "\n",
    "1. 10 countries with the lowest infant mortality rates\n",
    "2. 10 cities with the largest population\n",
    "3. 10 ethnic groups with the largest overall populations (sum of best/latest estimates over all countries)\n",
    "4. name and country of a) longest river, b) largest lake and c) airport at highest elevation"
   ]
  },
  {
   "cell_type": "code",
   "execution_count": 2,
   "metadata": {
    "collapsed": false
   },
   "outputs": [],
   "source": [
    "document = ET.parse( './data/mondial_database.xml' )"
   ]
  },
  {
   "cell_type": "code",
   "execution_count": 3,
   "metadata": {
    "collapsed": true
   },
   "outputs": [],
   "source": [
    "import pandas as pd"
   ]
  },
  {
   "cell_type": "code",
   "execution_count": 18,
   "metadata": {
    "collapsed": false
   },
   "outputs": [
    {
     "data": {
      "text/html": [
       "<div>\n",
       "<table border=\"1\" class=\"dataframe\">\n",
       "  <thead>\n",
       "    <tr style=\"text-align: right;\">\n",
       "      <th></th>\n",
       "      <th>country</th>\n",
       "      <th>infant_mortality</th>\n",
       "    </tr>\n",
       "  </thead>\n",
       "  <tbody>\n",
       "    <tr>\n",
       "      <th>36</th>\n",
       "      <td>Monaco</td>\n",
       "      <td>1.81</td>\n",
       "    </tr>\n",
       "    <tr>\n",
       "      <th>90</th>\n",
       "      <td>Japan</td>\n",
       "      <td>2.13</td>\n",
       "    </tr>\n",
       "    <tr>\n",
       "      <th>109</th>\n",
       "      <td>Bermuda</td>\n",
       "      <td>2.48</td>\n",
       "    </tr>\n",
       "    <tr>\n",
       "      <th>34</th>\n",
       "      <td>Norway</td>\n",
       "      <td>2.48</td>\n",
       "    </tr>\n",
       "    <tr>\n",
       "      <th>98</th>\n",
       "      <td>Singapore</td>\n",
       "      <td>2.53</td>\n",
       "    </tr>\n",
       "    <tr>\n",
       "      <th>35</th>\n",
       "      <td>Sweden</td>\n",
       "      <td>2.60</td>\n",
       "    </tr>\n",
       "    <tr>\n",
       "      <th>8</th>\n",
       "      <td>Czech Republic</td>\n",
       "      <td>2.63</td>\n",
       "    </tr>\n",
       "    <tr>\n",
       "      <th>72</th>\n",
       "      <td>Hong Kong</td>\n",
       "      <td>2.73</td>\n",
       "    </tr>\n",
       "    <tr>\n",
       "      <th>73</th>\n",
       "      <td>Macao</td>\n",
       "      <td>3.13</td>\n",
       "    </tr>\n",
       "    <tr>\n",
       "      <th>39</th>\n",
       "      <td>Iceland</td>\n",
       "      <td>3.15</td>\n",
       "    </tr>\n",
       "  </tbody>\n",
       "</table>\n",
       "</div>"
      ],
      "text/plain": [
       "            country  infant_mortality\n",
       "36           Monaco              1.81\n",
       "90            Japan              2.13\n",
       "109         Bermuda              2.48\n",
       "34           Norway              2.48\n",
       "98        Singapore              2.53\n",
       "35           Sweden              2.60\n",
       "8    Czech Republic              2.63\n",
       "72        Hong Kong              2.73\n",
       "73            Macao              3.13\n",
       "39          Iceland              3.15"
      ]
     },
     "execution_count": 18,
     "metadata": {},
     "output_type": "execute_result"
    }
   ],
   "source": [
    "# 1. 10 countries with lowest infant mortality rates\n",
    "cols = ['country', 'infant_mortality']\n",
    "d = pd.DataFrame(columns=cols)\n",
    "root = document.getroot()\n",
    "for child in root:\n",
    "    if child.tag == 'country':\n",
    "        if child.find('infant_mortality') is not None:\n",
    "            infant_mortality = float(child.find('infant_mortality').text)\n",
    "            country = child.find('name').text\n",
    "            data = pd.Series([country, infant_mortality], index=cols)\n",
    "            d = d.append(data, ignore_index=True)\n",
    "d.sort_values(by='infant_mortality').head(10)"
   ]
  },
  {
   "cell_type": "code",
   "execution_count": 19,
   "metadata": {
    "collapsed": false
   },
   "outputs": [
    {
     "data": {
      "text/html": [
       "<div>\n",
       "<table border=\"1\" class=\"dataframe\">\n",
       "  <thead>\n",
       "    <tr style=\"text-align: right;\">\n",
       "      <th></th>\n",
       "      <th>city</th>\n",
       "      <th>year</th>\n",
       "      <th>population</th>\n",
       "    </tr>\n",
       "  </thead>\n",
       "  <tbody>\n",
       "    <tr>\n",
       "      <th>1341</th>\n",
       "      <td>Shanghai</td>\n",
       "      <td>2010.0</td>\n",
       "      <td>22315474.0</td>\n",
       "    </tr>\n",
       "    <tr>\n",
       "      <th>771</th>\n",
       "      <td>Istanbul</td>\n",
       "      <td>2012.0</td>\n",
       "      <td>13710512.0</td>\n",
       "    </tr>\n",
       "    <tr>\n",
       "      <th>1527</th>\n",
       "      <td>Mumbai</td>\n",
       "      <td>2011.0</td>\n",
       "      <td>12442373.0</td>\n",
       "    </tr>\n",
       "    <tr>\n",
       "      <th>479</th>\n",
       "      <td>Moskva</td>\n",
       "      <td>2013.0</td>\n",
       "      <td>11979529.0</td>\n",
       "    </tr>\n",
       "    <tr>\n",
       "      <th>1340</th>\n",
       "      <td>Beijing</td>\n",
       "      <td>2010.0</td>\n",
       "      <td>11716620.0</td>\n",
       "    </tr>\n",
       "    <tr>\n",
       "      <th>2810</th>\n",
       "      <td>São Paulo</td>\n",
       "      <td>2010.0</td>\n",
       "      <td>11152344.0</td>\n",
       "    </tr>\n",
       "    <tr>\n",
       "      <th>1342</th>\n",
       "      <td>Tianjin</td>\n",
       "      <td>2010.0</td>\n",
       "      <td>11090314.0</td>\n",
       "    </tr>\n",
       "    <tr>\n",
       "      <th>1064</th>\n",
       "      <td>Guangzhou</td>\n",
       "      <td>2010.0</td>\n",
       "      <td>11071424.0</td>\n",
       "    </tr>\n",
       "    <tr>\n",
       "      <th>1582</th>\n",
       "      <td>Delhi</td>\n",
       "      <td>2011.0</td>\n",
       "      <td>11034555.0</td>\n",
       "    </tr>\n",
       "    <tr>\n",
       "      <th>1067</th>\n",
       "      <td>Shenzhen</td>\n",
       "      <td>2010.0</td>\n",
       "      <td>10358381.0</td>\n",
       "    </tr>\n",
       "  </tbody>\n",
       "</table>\n",
       "</div>"
      ],
      "text/plain": [
       "           city    year  population\n",
       "1341   Shanghai  2010.0  22315474.0\n",
       "771    Istanbul  2012.0  13710512.0\n",
       "1527     Mumbai  2011.0  12442373.0\n",
       "479      Moskva  2013.0  11979529.0\n",
       "1340    Beijing  2010.0  11716620.0\n",
       "2810  São Paulo  2010.0  11152344.0\n",
       "1342    Tianjin  2010.0  11090314.0\n",
       "1064  Guangzhou  2010.0  11071424.0\n",
       "1582      Delhi  2011.0  11034555.0\n",
       "1067   Shenzhen  2010.0  10358381.0"
      ]
     },
     "execution_count": 19,
     "metadata": {},
     "output_type": "execute_result"
    }
   ],
   "source": [
    "# 2. 10 cities with the largest population (using latest population)\n",
    "\n",
    "root = document.getroot()\n",
    "city_cols = ['city', 'year', 'population']\n",
    "city_df = pd.DataFrame(columns=city_cols)\n",
    "for city in root.iter('city'):\n",
    "    city_name = city.find('name').text\n",
    "    max_year = 0\n",
    "    for population in city.findall('population'):\n",
    "        test_year = int(population.attrib['year'])\n",
    "        if test_year > max_year:\n",
    "            max_year = test_year\n",
    "            population_num = int(population.text)\n",
    "    city_s = pd.Series([city_name, max_year, population_num], city_cols)\n",
    "    city_df = city_df.append(city_s, ignore_index=True)\n",
    "city_df.sort_values(by=\"population\", ascending=False).head(10)    "
   ]
  },
  {
   "cell_type": "code",
   "execution_count": 20,
   "metadata": {
    "collapsed": false,
    "scrolled": false
   },
   "outputs": [
    {
     "data": {
      "text/html": [
       "<div>\n",
       "<table border=\"1\" class=\"dataframe\">\n",
       "  <thead>\n",
       "    <tr style=\"text-align: right;\">\n",
       "      <th></th>\n",
       "      <th>ethnicgroup</th>\n",
       "      <th>population</th>\n",
       "    </tr>\n",
       "  </thead>\n",
       "  <tbody>\n",
       "    <tr>\n",
       "      <th>80</th>\n",
       "      <td>Han Chinese</td>\n",
       "      <td>4.975551e+08</td>\n",
       "    </tr>\n",
       "    <tr>\n",
       "      <th>128</th>\n",
       "      <td>European</td>\n",
       "      <td>1.928658e+08</td>\n",
       "    </tr>\n",
       "    <tr>\n",
       "      <th>106</th>\n",
       "      <td>Indo-Aryan</td>\n",
       "      <td>1.716454e+08</td>\n",
       "    </tr>\n",
       "    <tr>\n",
       "      <th>33</th>\n",
       "      <td>Russian</td>\n",
       "      <td>9.275844e+07</td>\n",
       "    </tr>\n",
       "    <tr>\n",
       "      <th>16</th>\n",
       "      <td>African</td>\n",
       "      <td>8.632937e+07</td>\n",
       "    </tr>\n",
       "    <tr>\n",
       "      <th>139</th>\n",
       "      <td>Japanese</td>\n",
       "      <td>8.170627e+07</td>\n",
       "    </tr>\n",
       "    <tr>\n",
       "      <th>21</th>\n",
       "      <td>German</td>\n",
       "      <td>6.623219e+07</td>\n",
       "    </tr>\n",
       "    <tr>\n",
       "      <th>105</th>\n",
       "      <td>Dravidian</td>\n",
       "      <td>5.959908e+07</td>\n",
       "    </tr>\n",
       "    <tr>\n",
       "      <th>70</th>\n",
       "      <td>English</td>\n",
       "      <td>4.231499e+07</td>\n",
       "    </tr>\n",
       "    <tr>\n",
       "      <th>150</th>\n",
       "      <td>Mestizo</td>\n",
       "      <td>3.554233e+07</td>\n",
       "    </tr>\n",
       "  </tbody>\n",
       "</table>\n",
       "</div>"
      ],
      "text/plain": [
       "     ethnicgroup    population\n",
       "80   Han Chinese  4.975551e+08\n",
       "128     European  1.928658e+08\n",
       "106   Indo-Aryan  1.716454e+08\n",
       "33       Russian  9.275844e+07\n",
       "16       African  8.632937e+07\n",
       "139     Japanese  8.170627e+07\n",
       "21        German  6.623219e+07\n",
       "105    Dravidian  5.959908e+07\n",
       "70       English  4.231499e+07\n",
       "150      Mestizo  3.554233e+07"
      ]
     },
     "execution_count": 20,
     "metadata": {},
     "output_type": "execute_result"
    }
   ],
   "source": [
    "# 3. 10 ethnic groups with the largest overall populations (sum of best/latest estimates over all countries)\n",
    "eg_cols = ['ethnicgroup', 'population']\n",
    "eg = pd.DataFrame(columns=eg_cols)\n",
    "\n",
    "root = document.getroot()\n",
    "for child in root:\n",
    "    if (child.tag=='country'):\n",
    "        #find latest population\n",
    "        max_year = 0\n",
    "        for population in child.findall('population'):\n",
    "            if int(population.attrib['year']) > max_year:\n",
    "                max_year = population.attrib['year']\n",
    "                pop_number = int(population.text)\n",
    "        #find all ethnicgroup, for each ethnicgroup, multiply population with with percentage\n",
    "        for ethnicgroup in child.findall('ethnicgroup'):\n",
    "            eg_pop_country = (float(ethnicgroup.attrib['percentage']) * pop_number) / 100.0\n",
    "            if len(eg[eg.ethnicgroup==ethnicgroup.text]) == 0:\n",
    "                eg_s = pd.Series([ethnicgroup.text, eg_pop_country], eg_cols)\n",
    "                eg = eg.append(eg_s, ignore_index=True)\n",
    "            else:\n",
    "                eg.population.values[eg.ethnicgroup.values==ethnicgroup.text] += eg_pop_country\n",
    "\n",
    "eg.sort_values(by=\"population\", ascending=False).head(10)          \n",
    "        \n",
    "        "
   ]
  },
  {
   "cell_type": "code",
   "execution_count": 39,
   "metadata": {
    "collapsed": false
   },
   "outputs": [
    {
     "name": "stdout",
     "output_type": "stream",
     "text": [
      "Longest River:\n"
     ]
    },
    {
     "data": {
      "text/html": [
       "<div>\n",
       "<table border=\"1\" class=\"dataframe\">\n",
       "  <thead>\n",
       "    <tr style=\"text-align: right;\">\n",
       "      <th></th>\n",
       "      <th>river_name</th>\n",
       "      <th>river_length</th>\n",
       "      <th>country_code</th>\n",
       "      <th>country_name</th>\n",
       "    </tr>\n",
       "  </thead>\n",
       "  <tbody>\n",
       "    <tr>\n",
       "      <th>299</th>\n",
       "      <td>Amazonas</td>\n",
       "      <td>6448.0</td>\n",
       "      <td>CO</td>\n",
       "      <td>Colombia</td>\n",
       "    </tr>\n",
       "    <tr>\n",
       "      <th>302</th>\n",
       "      <td>Amazonas</td>\n",
       "      <td>6448.0</td>\n",
       "      <td>BR</td>\n",
       "      <td>Brazil</td>\n",
       "    </tr>\n",
       "    <tr>\n",
       "      <th>310</th>\n",
       "      <td>Amazonas</td>\n",
       "      <td>6448.0</td>\n",
       "      <td>PE</td>\n",
       "      <td>Peru</td>\n",
       "    </tr>\n",
       "  </tbody>\n",
       "</table>\n",
       "</div>"
      ],
      "text/plain": [
       "    river_name  river_length country_code country_name\n",
       "299   Amazonas        6448.0           CO     Colombia\n",
       "302   Amazonas        6448.0           BR       Brazil\n",
       "310   Amazonas        6448.0           PE         Peru"
      ]
     },
     "metadata": {},
     "output_type": "display_data"
    },
    {
     "name": "stdout",
     "output_type": "stream",
     "text": [
      "Largest Lake:\n"
     ]
    },
    {
     "data": {
      "text/html": [
       "<div>\n",
       "<table border=\"1\" class=\"dataframe\">\n",
       "  <thead>\n",
       "    <tr style=\"text-align: right;\">\n",
       "      <th></th>\n",
       "      <th>lake_name</th>\n",
       "      <th>lake_area</th>\n",
       "      <th>country_code</th>\n",
       "      <th>country_name</th>\n",
       "    </tr>\n",
       "  </thead>\n",
       "  <tbody>\n",
       "    <tr>\n",
       "      <th>56</th>\n",
       "      <td>Caspian Sea</td>\n",
       "      <td>386400.0</td>\n",
       "      <td>R</td>\n",
       "      <td>Russia</td>\n",
       "    </tr>\n",
       "    <tr>\n",
       "      <th>72</th>\n",
       "      <td>Caspian Sea</td>\n",
       "      <td>386400.0</td>\n",
       "      <td>IR</td>\n",
       "      <td>Iran</td>\n",
       "    </tr>\n",
       "    <tr>\n",
       "      <th>73</th>\n",
       "      <td>Caspian Sea</td>\n",
       "      <td>386400.0</td>\n",
       "      <td>AZ</td>\n",
       "      <td>Azerbaijan</td>\n",
       "    </tr>\n",
       "    <tr>\n",
       "      <th>74</th>\n",
       "      <td>Caspian Sea</td>\n",
       "      <td>386400.0</td>\n",
       "      <td>KAZ</td>\n",
       "      <td>Kazakhstan</td>\n",
       "    </tr>\n",
       "    <tr>\n",
       "      <th>77</th>\n",
       "      <td>Caspian Sea</td>\n",
       "      <td>386400.0</td>\n",
       "      <td>TM</td>\n",
       "      <td>Turkmenistan</td>\n",
       "    </tr>\n",
       "  </tbody>\n",
       "</table>\n",
       "</div>"
      ],
      "text/plain": [
       "      lake_name  lake_area country_code  country_name\n",
       "56  Caspian Sea   386400.0            R        Russia\n",
       "72  Caspian Sea   386400.0           IR          Iran\n",
       "73  Caspian Sea   386400.0           AZ    Azerbaijan\n",
       "74  Caspian Sea   386400.0          KAZ    Kazakhstan\n",
       "77  Caspian Sea   386400.0           TM  Turkmenistan"
      ]
     },
     "metadata": {},
     "output_type": "display_data"
    },
    {
     "name": "stdout",
     "output_type": "stream",
     "text": [
      "Airport at Highest Elevation:\n"
     ]
    },
    {
     "data": {
      "text/html": [
       "<div>\n",
       "<table border=\"1\" class=\"dataframe\">\n",
       "  <thead>\n",
       "    <tr style=\"text-align: right;\">\n",
       "      <th></th>\n",
       "      <th>airport_name</th>\n",
       "      <th>airport_elevation</th>\n",
       "      <th>country_code</th>\n",
       "      <th>country_name</th>\n",
       "    </tr>\n",
       "  </thead>\n",
       "  <tbody>\n",
       "    <tr>\n",
       "      <th>80</th>\n",
       "      <td>El Alto Intl</td>\n",
       "      <td>4063.0</td>\n",
       "      <td>BOL</td>\n",
       "      <td>Bolivia</td>\n",
       "    </tr>\n",
       "  </tbody>\n",
       "</table>\n",
       "</div>"
      ],
      "text/plain": [
       "    airport_name  airport_elevation country_code country_name\n",
       "80  El Alto Intl             4063.0          BOL      Bolivia"
      ]
     },
     "metadata": {},
     "output_type": "display_data"
    }
   ],
   "source": [
    "#4. name and country of a) longest river, b) largest lake and c) airport at highest elevation\n",
    "from IPython.display import display\n",
    "\n",
    "c_cols = ['country_name', 'country_code']\n",
    "r_cols = ['river_name', 'river_length', 'country_code']\n",
    "l_cols = ['lake_name', 'lake_area', 'country_code']\n",
    "a_cols = ['airport_name', 'airport_elevation', 'country_code']\n",
    "\n",
    "countries = pd.DataFrame(columns=c_cols)\n",
    "rivers = pd.DataFrame(columns=r_cols)\n",
    "lakes = pd.DataFrame(columns=l_cols)\n",
    "airports = pd.DataFrame(columns=a_cols)\n",
    "\n",
    "def addtoDataFrame (node, attr_type, attribute, cols, df):\n",
    "    if (attr_type=='float'):\n",
    "        format_attr = float(node.find(attribute).text)\n",
    "    elif (attr_type=='int'):\n",
    "        format_attr = int(node.find(attribute).text)\n",
    "    countries = node.attrib['country'].split(' ')\n",
    "    for country in countries:\n",
    "        series = pd.Series([node.find('name').text, format_attr, country], cols)\n",
    "        df = df.append(series, ignore_index=True)\n",
    "    return df \n",
    "\n",
    "root = document.getroot()\n",
    "for child in root:\n",
    "    if (child.tag=='country'): \n",
    "        country_series = pd.Series([child.find('name').text, child.attrib['car_code']], c_cols)\n",
    "        countries = countries.append(country_series, ignore_index=True)\n",
    "    if (child.tag=='river'):\n",
    "        if child.find('length') is not None:\n",
    "            rivers = addtoDataFrame(child, 'float', 'length', r_cols, rivers)\n",
    "    if (child.tag=='lake'):\n",
    "        if child.find('area') is not None:\n",
    "            lakes = addtoDataFrame(child, 'float', 'area', l_cols, lakes)\n",
    "    if (child.tag=='airport'):\n",
    "        if child.find('elevation') is not None:\n",
    "            if child.find('elevation').text is not None:\n",
    "                airports = addtoDataFrame(child, 'float', 'elevation', a_cols, airports)\n",
    "\n",
    "print 'Longest River:'\n",
    "river_name = rivers.sort_values(by='river_length', ascending=False).head(1).iloc[0]['river_name']\n",
    "r = rivers.merge(countries)\n",
    "display(r[r.river_name==river_name].sort_values(by='river_length', ascending=False))\n",
    "\n",
    "print 'Largest Lake:'\n",
    "lake_name = lakes.sort_values(by='lake_area', ascending=False).head(1).iloc[0]['lake_name']\n",
    "l = lakes.merge(countries)\n",
    "display(l[l.lake_name==lake_name].sort_values(by='lake_area', ascending=False))\n",
    "\n",
    "print 'Airport at Highest Elevation:'\n",
    "display(airports.merge(countries).sort_values(by='airport_elevation', ascending=False).head(1))"
   ]
  },
  {
   "cell_type": "code",
   "execution_count": null,
   "metadata": {
    "collapsed": true
   },
   "outputs": [],
   "source": []
  }
 ],
 "metadata": {
  "kernelspec": {
   "display_name": "Python 2",
   "language": "python",
   "name": "python2"
  },
  "language_info": {
   "codemirror_mode": {
    "name": "ipython",
    "version": 2
   },
   "file_extension": ".py",
   "mimetype": "text/x-python",
   "name": "python",
   "nbconvert_exporter": "python",
   "pygments_lexer": "ipython2",
   "version": "2.7.11"
  }
 },
 "nbformat": 4,
 "nbformat_minor": 0
}
